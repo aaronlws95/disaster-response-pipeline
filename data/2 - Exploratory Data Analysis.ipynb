{
 "cells": [
  {
   "cell_type": "code",
   "execution_count": 1,
   "id": "af63c542",
   "metadata": {},
   "outputs": [],
   "source": [
    "# Import libraries\n",
    "import re\n",
    "import numpy as np\n",
    "import pandas as pd\n",
    "import matplotlib.pyplot as plt\n",
    "\n",
    "from nltk.tokenize import word_tokenize\n",
    "from nltk.stem import WordNetLemmatizer\n",
    "\n",
    "%matplotlib inline\n",
    "plt.rcParams[\"figure.figsize\"] = (8,8)\n",
    "plt.rcParams['font.size'] = 16"
   ]
  },
  {
   "cell_type": "code",
   "execution_count": 2,
   "id": "ee081311",
   "metadata": {},
   "outputs": [],
   "source": [
    "# Load data from database\n",
    "df = pd.read_sql_table('disaster_data', 'sqlite:///../data/DisasterResponse.db')  "
   ]
  },
  {
   "cell_type": "code",
   "execution_count": 3,
   "id": "b0a98b16",
   "metadata": {},
   "outputs": [
    {
     "data": {
      "text/html": [
       "<div>\n",
       "<style scoped>\n",
       "    .dataframe tbody tr th:only-of-type {\n",
       "        vertical-align: middle;\n",
       "    }\n",
       "\n",
       "    .dataframe tbody tr th {\n",
       "        vertical-align: top;\n",
       "    }\n",
       "\n",
       "    .dataframe thead th {\n",
       "        text-align: right;\n",
       "    }\n",
       "</style>\n",
       "<table border=\"1\" class=\"dataframe\">\n",
       "  <thead>\n",
       "    <tr style=\"text-align: right;\">\n",
       "      <th></th>\n",
       "      <th>id</th>\n",
       "      <th>message</th>\n",
       "      <th>original</th>\n",
       "      <th>genre</th>\n",
       "      <th>related</th>\n",
       "      <th>request</th>\n",
       "      <th>offer</th>\n",
       "      <th>aid_related</th>\n",
       "      <th>medical_help</th>\n",
       "      <th>medical_products</th>\n",
       "      <th>...</th>\n",
       "      <th>aid_centers</th>\n",
       "      <th>other_infrastructure</th>\n",
       "      <th>weather_related</th>\n",
       "      <th>floods</th>\n",
       "      <th>storm</th>\n",
       "      <th>fire</th>\n",
       "      <th>earthquake</th>\n",
       "      <th>cold</th>\n",
       "      <th>other_weather</th>\n",
       "      <th>direct_report</th>\n",
       "    </tr>\n",
       "  </thead>\n",
       "  <tbody>\n",
       "    <tr>\n",
       "      <th>0</th>\n",
       "      <td>2</td>\n",
       "      <td>Weather update - a cold front from Cuba that c...</td>\n",
       "      <td>Un front froid se retrouve sur Cuba ce matin. ...</td>\n",
       "      <td>direct</td>\n",
       "      <td>True</td>\n",
       "      <td>False</td>\n",
       "      <td>False</td>\n",
       "      <td>False</td>\n",
       "      <td>False</td>\n",
       "      <td>False</td>\n",
       "      <td>...</td>\n",
       "      <td>False</td>\n",
       "      <td>False</td>\n",
       "      <td>False</td>\n",
       "      <td>False</td>\n",
       "      <td>False</td>\n",
       "      <td>False</td>\n",
       "      <td>False</td>\n",
       "      <td>False</td>\n",
       "      <td>False</td>\n",
       "      <td>False</td>\n",
       "    </tr>\n",
       "    <tr>\n",
       "      <th>1</th>\n",
       "      <td>7</td>\n",
       "      <td>Is the Hurricane over or is it not over</td>\n",
       "      <td>Cyclone nan fini osinon li pa fini</td>\n",
       "      <td>direct</td>\n",
       "      <td>True</td>\n",
       "      <td>False</td>\n",
       "      <td>False</td>\n",
       "      <td>True</td>\n",
       "      <td>False</td>\n",
       "      <td>False</td>\n",
       "      <td>...</td>\n",
       "      <td>False</td>\n",
       "      <td>False</td>\n",
       "      <td>True</td>\n",
       "      <td>False</td>\n",
       "      <td>True</td>\n",
       "      <td>False</td>\n",
       "      <td>False</td>\n",
       "      <td>False</td>\n",
       "      <td>False</td>\n",
       "      <td>False</td>\n",
       "    </tr>\n",
       "    <tr>\n",
       "      <th>2</th>\n",
       "      <td>8</td>\n",
       "      <td>Looking for someone but no name</td>\n",
       "      <td>Patnm, di Maryani relem pou li banm nouvel li ...</td>\n",
       "      <td>direct</td>\n",
       "      <td>True</td>\n",
       "      <td>False</td>\n",
       "      <td>False</td>\n",
       "      <td>False</td>\n",
       "      <td>False</td>\n",
       "      <td>False</td>\n",
       "      <td>...</td>\n",
       "      <td>False</td>\n",
       "      <td>False</td>\n",
       "      <td>False</td>\n",
       "      <td>False</td>\n",
       "      <td>False</td>\n",
       "      <td>False</td>\n",
       "      <td>False</td>\n",
       "      <td>False</td>\n",
       "      <td>False</td>\n",
       "      <td>False</td>\n",
       "    </tr>\n",
       "    <tr>\n",
       "      <th>3</th>\n",
       "      <td>9</td>\n",
       "      <td>UN reports Leogane 80-90 destroyed. Only Hospi...</td>\n",
       "      <td>UN reports Leogane 80-90 destroyed. Only Hospi...</td>\n",
       "      <td>direct</td>\n",
       "      <td>True</td>\n",
       "      <td>True</td>\n",
       "      <td>False</td>\n",
       "      <td>True</td>\n",
       "      <td>False</td>\n",
       "      <td>True</td>\n",
       "      <td>...</td>\n",
       "      <td>False</td>\n",
       "      <td>False</td>\n",
       "      <td>False</td>\n",
       "      <td>False</td>\n",
       "      <td>False</td>\n",
       "      <td>False</td>\n",
       "      <td>False</td>\n",
       "      <td>False</td>\n",
       "      <td>False</td>\n",
       "      <td>False</td>\n",
       "    </tr>\n",
       "    <tr>\n",
       "      <th>4</th>\n",
       "      <td>12</td>\n",
       "      <td>says: west side of Haiti, rest of the country ...</td>\n",
       "      <td>facade ouest d Haiti et le reste du pays aujou...</td>\n",
       "      <td>direct</td>\n",
       "      <td>True</td>\n",
       "      <td>False</td>\n",
       "      <td>False</td>\n",
       "      <td>False</td>\n",
       "      <td>False</td>\n",
       "      <td>False</td>\n",
       "      <td>...</td>\n",
       "      <td>False</td>\n",
       "      <td>False</td>\n",
       "      <td>False</td>\n",
       "      <td>False</td>\n",
       "      <td>False</td>\n",
       "      <td>False</td>\n",
       "      <td>False</td>\n",
       "      <td>False</td>\n",
       "      <td>False</td>\n",
       "      <td>False</td>\n",
       "    </tr>\n",
       "  </tbody>\n",
       "</table>\n",
       "<p>5 rows × 40 columns</p>\n",
       "</div>"
      ],
      "text/plain": [
       "   id                                            message  \\\n",
       "0   2  Weather update - a cold front from Cuba that c...   \n",
       "1   7            Is the Hurricane over or is it not over   \n",
       "2   8                    Looking for someone but no name   \n",
       "3   9  UN reports Leogane 80-90 destroyed. Only Hospi...   \n",
       "4  12  says: west side of Haiti, rest of the country ...   \n",
       "\n",
       "                                            original   genre  related  \\\n",
       "0  Un front froid se retrouve sur Cuba ce matin. ...  direct     True   \n",
       "1                 Cyclone nan fini osinon li pa fini  direct     True   \n",
       "2  Patnm, di Maryani relem pou li banm nouvel li ...  direct     True   \n",
       "3  UN reports Leogane 80-90 destroyed. Only Hospi...  direct     True   \n",
       "4  facade ouest d Haiti et le reste du pays aujou...  direct     True   \n",
       "\n",
       "   request  offer  aid_related  medical_help  medical_products  ...  \\\n",
       "0    False  False        False         False             False  ...   \n",
       "1    False  False         True         False             False  ...   \n",
       "2    False  False        False         False             False  ...   \n",
       "3     True  False         True         False              True  ...   \n",
       "4    False  False        False         False             False  ...   \n",
       "\n",
       "   aid_centers  other_infrastructure  weather_related  floods  storm   fire  \\\n",
       "0        False                 False            False   False  False  False   \n",
       "1        False                 False             True   False   True  False   \n",
       "2        False                 False            False   False  False  False   \n",
       "3        False                 False            False   False  False  False   \n",
       "4        False                 False            False   False  False  False   \n",
       "\n",
       "   earthquake   cold  other_weather  direct_report  \n",
       "0       False  False          False          False  \n",
       "1       False  False          False          False  \n",
       "2       False  False          False          False  \n",
       "3       False  False          False          False  \n",
       "4       False  False          False          False  \n",
       "\n",
       "[5 rows x 40 columns]"
      ]
     },
     "execution_count": 3,
     "metadata": {},
     "output_type": "execute_result"
    }
   ],
   "source": [
    "# Glance at the data\n",
    "df.head()"
   ]
  },
  {
   "cell_type": "code",
   "execution_count": 4,
   "id": "55bf9e38",
   "metadata": {},
   "outputs": [
    {
     "data": {
      "text/plain": [
       "original                  61.206897\n",
       "id                         0.000000\n",
       "aid_centers                0.000000\n",
       "infrastructure_related     0.000000\n",
       "transport                  0.000000\n",
       "buildings                  0.000000\n",
       "electricity                0.000000\n",
       "tools                      0.000000\n",
       "hospitals                  0.000000\n",
       "shops                      0.000000\n",
       "other_infrastructure       0.000000\n",
       "death                      0.000000\n",
       "weather_related            0.000000\n",
       "floods                     0.000000\n",
       "storm                      0.000000\n",
       "fire                       0.000000\n",
       "earthquake                 0.000000\n",
       "cold                       0.000000\n",
       "other_weather              0.000000\n",
       "other_aid                  0.000000\n",
       "refugees                   0.000000\n",
       "message                    0.000000\n",
       "search_and_rescue          0.000000\n",
       "genre                      0.000000\n",
       "related                    0.000000\n",
       "request                    0.000000\n",
       "offer                      0.000000\n",
       "aid_related                0.000000\n",
       "medical_help               0.000000\n",
       "medical_products           0.000000\n",
       "security                   0.000000\n",
       "missing_people             0.000000\n",
       "military                   0.000000\n",
       "child_alone                0.000000\n",
       "water                      0.000000\n",
       "food                       0.000000\n",
       "shelter                    0.000000\n",
       "clothing                   0.000000\n",
       "money                      0.000000\n",
       "direct_report              0.000000\n",
       "dtype: float64"
      ]
     },
     "execution_count": 4,
     "metadata": {},
     "output_type": "execute_result"
    }
   ],
   "source": [
    "# Null values\n",
    "(df.isna().sum()*100 / len(df[\"id\"])).sort_values(ascending=False)"
   ]
  },
  {
   "cell_type": "markdown",
   "id": "3aa71e36",
   "metadata": {},
   "source": [
    "Only 'original' has null values which is Ok, we only care about 'messages'"
   ]
  },
  {
   "cell_type": "code",
   "execution_count": 5,
   "id": "46f4652f",
   "metadata": {},
   "outputs": [
    {
     "data": {
      "text/plain": [
       "child_alone                0.000000\n",
       "offer                      0.450107\n",
       "shops                      0.457736\n",
       "tools                      0.606500\n",
       "fire                       1.075679\n",
       "hospitals                  1.079493\n",
       "missing_people             1.136710\n",
       "aid_centers                1.178670\n",
       "clothing                   1.544858\n",
       "security                   1.796613\n",
       "cold                       2.021666\n",
       "electricity                2.029295\n",
       "money                      2.303937\n",
       "search_and_rescue          2.761672\n",
       "military                   3.280439\n",
       "refugees                   3.337656\n",
       "other_infrastructure       4.390449\n",
       "death                      4.554471\n",
       "transport                  4.581172\n",
       "medical_products           5.008392\n",
       "buildings                  5.084681\n",
       "other_weather              5.248703\n",
       "water                      6.377785\n",
       "infrastructure_related     6.503662\n",
       "medical_help               7.949344\n",
       "floods                     8.220171\n",
       "shelter                    8.826671\n",
       "storm                      9.318737\n",
       "earthquake                 9.364510\n",
       "food                      11.149680\n",
       "other_aid                 13.144644\n",
       "request                   17.065914\n",
       "direct_report             19.358407\n",
       "weather_related           27.834147\n",
       "aid_related               41.425084\n",
       "related                   75.930729\n",
       "dtype: float64"
      ]
     },
     "execution_count": 5,
     "metadata": {},
     "output_type": "execute_result"
    }
   ],
   "source": [
    "# Category sum\n",
    "category_percentage_true = df.drop([\"message\", \"id\", \"original\", \"genre\"], axis=1).sum() / len(df[\"id\"])\n",
    "(category_percentage_true*100).sort_values()"
   ]
  },
  {
   "cell_type": "markdown",
   "id": "dc15a257",
   "metadata": {},
   "source": [
    "'child_alone' has no true values. There are also quite a number of categories with low percentage (<2%) of examples. Without enough examples, our model will not be able to categorize messages into these categories accurately."
   ]
  },
  {
   "cell_type": "code",
   "execution_count": 7,
   "id": "2c787037",
   "metadata": {},
   "outputs": [],
   "source": [
    "def tokenize(text):\n",
    "    \"\"\"\n",
    "    Clean and tokenize a text input\n",
    "    Input:\n",
    "        text: Input text\n",
    "    Output:\n",
    "        clean_tokens: Cleaned and tokenized text\n",
    "    \"\"\"\n",
    "    url_regex = 'http[s]?://(?:[a-zA-Z]|[0-9]|[$-_@.&+]|[!*\\(\\),]|(?:%[0-9a-fA-F][0-9a-fA-F]))+'\n",
    "\n",
    "    # Unify URLs with a placeholder\n",
    "    detected_urls = re.findall(url_regex, text)\n",
    "    for url in detected_urls:\n",
    "        text = text.replace(url, \"urlplaceholder\")\n",
    "        \n",
    "    # Split text into words\n",
    "    tokens = word_tokenize(text)\n",
    "    \n",
    "    # Group inflected words, remove whitespace, transform all to lowercase\n",
    "    lemmatizer = WordNetLemmatizer()\n",
    "    clean_tokens = [lemmatizer.lemmatize(x).lower().strip() for x in tokens]\n",
    "    \n",
    "    return clean_tokens"
   ]
  },
  {
   "cell_type": "code",
   "execution_count": 8,
   "id": "1caa94aa",
   "metadata": {},
   "outputs": [
    {
     "data": {
      "image/png": "[encoded data removed]",
      "text/plain": [
       "<Figure size 576x576 with 1 Axes>"
      ]
     },
     "metadata": {
      "needs_background": "light"
     },
     "output_type": "display_data"
    }
   ],
   "source": [
    "# Message length outliers\n",
    "df[\"message_len\"] = df[\"message\"].apply(lambda x: len(tokenize(x)))\n",
    "df[\"message_len\"].plot(kind=\"box\");"
   ]
  },
  {
   "cell_type": "markdown",
   "id": "e3658b56",
   "metadata": {},
   "source": [
    "Message length has quite a few outliers."
   ]
  },
  {
   "cell_type": "code",
   "execution_count": 9,
   "id": "0c875b2e",
   "metadata": {},
   "outputs": [],
   "source": [
    "def tukey_rule(data_frame, column_name):\n",
    "    data = data_frame[column_name]\n",
    "    Q1 = data.quantile(0.25)\n",
    "    Q3 = data.quantile(0.75)\n",
    "\n",
    "    IQR = Q3 - Q1\n",
    "\n",
    "    max_value = Q3 + 1.5 * IQR\n",
    "    min_value = Q1 - 1.5 * IQR\n",
    "\n",
    "    return data_frame[(data_frame[column_name] < max_value) & (data_frame[column_name] > min_value)]"
   ]
  },
  {
   "cell_type": "code",
   "execution_count": 10,
   "id": "a57a4961",
   "metadata": {},
   "outputs": [
    {
     "data": {
      "image/png": "[encoded data removed]",
      "text/plain": [
       "<Figure size 576x576 with 1 Axes>"
      ]
     },
     "metadata": {
      "needs_background": "light"
     },
     "output_type": "display_data"
    }
   ],
   "source": [
    "remove_outlier_df = tukey_rule(df, \"message_len\")\n",
    "remove_outlier_df[\"message_len\"].plot(kind=\"box\");"
   ]
  },
  {
   "cell_type": "code",
   "execution_count": 15,
   "id": "88e0fca2",
   "metadata": {},
   "outputs": [
    {
     "name": "stdout",
     "output_type": "stream",
     "text": [
      "Number of outliers: 633\n"
     ]
    }
   ],
   "source": [
    "print(\"Number of outliers:\", len(df[\"id\"]) - len(remove_outlier_df[\"id\"]))"
   ]
  },
  {
   "cell_type": "code",
   "execution_count": 16,
   "id": "1a8d67ac",
   "metadata": {},
   "outputs": [],
   "source": [
    "# Unique words\n",
    "df[\"tokens\"] = df[\"message\"].apply(lambda x: tokenize(x))"
   ]
  },
  {
   "cell_type": "code",
   "execution_count": 25,
   "id": "dc4875a1",
   "metadata": {},
   "outputs": [],
   "source": [
    "all_words = []\n",
    "for row in df.iterrows():\n",
    "    all_words += row[1][\"tokens\"]"
   ]
  },
  {
   "cell_type": "code",
   "execution_count": 31,
   "id": "675af300",
   "metadata": {},
   "outputs": [
    {
     "name": "stdout",
     "output_type": "stream",
     "text": [
      "Total number of words: 706432\n"
     ]
    }
   ],
   "source": [
    "print(\"Total number of words:\", len(all_words))"
   ]
  },
  {
   "cell_type": "code",
   "execution_count": 30,
   "id": "a3a331ef",
   "metadata": {},
   "outputs": [
    {
     "name": "stdout",
     "output_type": "stream",
     "text": [
      "Total number of unique words: 36983\n"
     ]
    }
   ],
   "source": [
    "print(\"Total number of unique words:\", len(np.unique(all_words)))"
   ]
  }
 ],
 "metadata": {
  "kernelspec": {
   "display_name": "Python 3 (ipykernel)",
   "language": "python",
   "name": "python3"
  },
  "language_info": {
   "codemirror_mode": {
    "name": "ipython",
    "version": 3
   },
   "file_extension": ".py",
   "mimetype": "text/x-python",
   "name": "python",
   "nbconvert_exporter": "python",
   "pygments_lexer": "ipython3",
   "version": "3.7.11"
  }
 },
 "nbformat": 4,
 "nbformat_minor": 5
}
